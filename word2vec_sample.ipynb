{
 "cells": [
  {
   "cell_type": "code",
   "execution_count": null,
   "metadata": {},
   "outputs": [],
   "source": [
    "\"\"\"\n",
    "imports\n",
    "\"\"\"\n",
    "import numpy as np\n",
    "import gensim                             # belongs to gensim package\n",
    "from smart_open import open as smart_open # belongs to smart_open package"
   ]
  },
  {
   "cell_type": "code",
   "execution_count": null,
   "metadata": {},
   "outputs": [],
   "source": [
    "\"\"\"\n",
    "load model, located in a 'models' folder\n",
    "download it yourself, and do not put it in the github repo\n",
    "(i.e. put it in your .gitignore file) because it's YUGE\n",
    "download: https://drive.google.com/file/d/0B7XkCwpI5KDYNlNUTTlSS21pQmM/edit?usp=sharing\n",
    "\"\"\"\n",
    "file = smart_open('./models/GoogleNews-vectors-negative300.bin', 'rb')\n",
    "model = gensim.models.KeyedVectors.load_word2vec_format(file, binary=True)"
   ]
  },
  {
   "cell_type": "code",
   "execution_count": null,
   "metadata": {},
   "outputs": [],
   "source": [
    "\"\"\"\n",
    "Putting model to use\n",
    "notes:\n",
    " - model is made to produce 300D vectors\n",
    " - can't turn vectors into words\n",
    "\"\"\"\n",
    "model.get_vector(\"hi\")\n",
    "model.get_vector(\"Yagmur\")"
   ]
  }
 ],
 "metadata": {
  "kernelspec": {
   "display_name": "dl",
   "language": "python",
   "name": "dl"
  },
  "language_info": {
   "codemirror_mode": {
    "name": "ipython",
    "version": 3
   },
   "file_extension": ".py",
   "mimetype": "text/x-python",
   "name": "python",
   "nbconvert_exporter": "python",
   "pygments_lexer": "ipython3",
   "version": "3.7.1"
  }
 },
 "nbformat": 4,
 "nbformat_minor": 2
}
