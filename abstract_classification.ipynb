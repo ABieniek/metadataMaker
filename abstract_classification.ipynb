{
 "cells": [
  {
   "cell_type": "markdown",
   "metadata": {},
   "source": [
    "## Read in the data and take care of it"
   ]
  },
  {
   "cell_type": "code",
   "execution_count": 6,
   "metadata": {},
   "outputs": [],
   "source": [
    "import json\n",
    "\n",
    "DATAPATH = \"data/articles.json\"\n",
    "\n",
    "with open(DATAPATH, \"r\", encoding=\"utf-8\") as f:\n",
    "    articles = json.load(f)\n",
    "    \n",
    "all_categories = []\n",
    "articles_dict = dict()\n",
    "for article in articles:\n",
    "    category = article[\"category\"]\n",
    "    if category not in all_categories:\n",
    "        all_categories.append(category)\n",
    "        articles_dict[category] = []\n",
    "    articles_dict[category].append(article)\n",
    "    \n",
    "n_categories = len(articles_dict.keys())\n",
    "#n_letters = 257 # the first 256 ASCII characters + a \"bin\" for weird characters"
   ]
  },
  {
   "cell_type": "markdown",
   "metadata": {},
   "source": [
    "## Turning abstracts into pytorch tensors"
   ]
  },
  {
   "cell_type": "code",
   "execution_count": 23,
   "metadata": {},
   "outputs": [
    {
     "name": "stdout",
     "output_type": "stream",
     "text": [
      "tensor([[[0., 0., 0., 0., 0., 0., 0., 0., 0., 0., 0., 0., 0., 0., 0., 0., 0.,\n",
      "          0., 0., 0., 0., 0., 0., 0., 0., 0., 0., 0., 0., 0., 0., 0., 0., 0.,\n",
      "          0., 0., 0., 0., 0., 0., 0., 0., 0., 0., 0., 0., 0., 0., 0., 0., 0.,\n",
      "          0., 0., 0., 0., 0., 0., 0., 0., 0., 0., 0., 0., 0., 0., 0., 0., 0.,\n",
      "          0., 0., 0., 0., 0., 0., 0., 0., 0., 0., 0., 0., 0., 0., 0., 0., 0.,\n",
      "          0., 0., 0., 0., 0., 0., 0., 0., 0., 0., 0., 0., 0., 0., 0., 1.]]])\n"
     ]
    }
   ],
   "source": [
    "import torch\n",
    "import string\n",
    "import unicodedata\n",
    "\n",
    "n_letters = len(string.printable)+1\n",
    "n_hidden = n_letters\n",
    "\n",
    "def lineToTensor(text):\n",
    "    tensor = torch.zeros(len(text), 1, n_letters)\n",
    "    # this is splitting letters with accents into letter + accent\n",
    "    normalized = unicodedata.normalize(\"NFD\", text)\n",
    "    for idx, char in enumerate(normalized):\n",
    "        if unicodedata.category(char) == \"Mn\":\n",
    "            continue\n",
    "        # characters not in string.printable get a \"pos\" of -1,\n",
    "        # which goes into the \"trash\" coordinate\n",
    "        pos = string.printable.find(char)\n",
    "        tensor[idx, 0, pos] = 1\n",
    "    return tensor\n",
    "\n",
    "print(lineToTensor(\"€\"))"
   ]
  },
  {
   "cell_type": "markdown",
   "metadata": {},
   "source": [
    "## Creating the RNN architecture"
   ]
  },
  {
   "cell_type": "code",
   "execution_count": 24,
   "metadata": {},
   "outputs": [],
   "source": [
    "import torch.nn as nn\n",
    "\n",
    "class LSTM(nn.Module):\n",
    "    def __init__(self, input_size, hidden_size, output_size):\n",
    "        super(LSTM, self).__init__()\n",
    "\n",
    "        self.hidden_size = hidden_size\n",
    "        \n",
    "        self.i2h = nn.LSTM(input_size, hidden_size, 1)\n",
    "        \n",
    "        \n",
    "        self.h2o = nn.Linear(hidden_size, output_size)\n",
    "        self.softmax = nn.LogSoftmax(dim=1)\n",
    "\n",
    "    def forward(self, input):\n",
    "        hidden , (h_t, c_t) = self.i2h(input)\n",
    "        output = self.h2o(hidden[-1])\n",
    "        output = self.softmax(output)\n",
    "        return output\n",
    "    \n",
    "rnn=LSTM(n_letters, n_hidden, n_categories)"
   ]
  },
  {
   "cell_type": "code",
   "execution_count": 25,
   "metadata": {},
   "outputs": [
    {
     "name": "stdout",
     "output_type": "stream",
     "text": [
      "tensor([[-2.1754, -2.1308, -2.0076, -2.0481, -2.0628, -2.1469, -2.0428, -2.0341]],\n",
      "       grad_fn=<LogSoftmaxBackward>)\n"
     ]
    }
   ],
   "source": [
    "inp = lineToTensor(\"Rodrigo is my name\")\n",
    "output = rnn(inp)\n",
    "print(output)"
   ]
  },
  {
   "cell_type": "markdown",
   "metadata": {},
   "source": [
    "## Preparing for training"
   ]
  },
  {
   "cell_type": "code",
   "execution_count": 26,
   "metadata": {},
   "outputs": [
    {
     "name": "stdout",
     "output_type": "stream",
     "text": [
      "('Economics', 2)\n"
     ]
    }
   ],
   "source": [
    "def categoryFromOutput(out):\n",
    "    top_n, top_i = out.topk(1)\n",
    "    category_i = top_i[0].item()\n",
    "    return all_categories[category_i], category_i\n",
    "\n",
    "print(categoryFromOutput(rnn(lineToTensor(\"some random line here\"))))"
   ]
  },
  {
   "cell_type": "code",
   "execution_count": 27,
   "metadata": {},
   "outputs": [
    {
     "data": {
      "text/plain": [
       "('Quantitative Finance',\n",
       " 'We discuss some methods to quantitatively investigate the properties of\\ncorrelation matrices. Correlation matrices play an important role in portfolio\\noptimization and in several other quantitative descriptions of asset price\\ndynamics in financial markets. Specifically, we discuss how to define and\\nobtain hierarchical trees, correlation based trees and networks from a\\ncorrelation matrix. The hierarchical clustering and other procedures performed\\non the correlation matrix to detect statistically reliable aspects of the\\ncorrelation matrix are seen as filtering procedures of the correlation matrix.\\nWe also discuss a method to associate a hierarchically nested factor model to a\\nhierarchical tree obtained from a correlation matrix. The information retained\\nin filtering procedures and its stability with respect to statistical\\nfluctuations is quantified by using the Kullback-Leibler distance.',\n",
       " tensor([6]),\n",
       " tensor([[[0., 0., 0.,  ..., 0., 0., 0.]],\n",
       " \n",
       "         [[0., 0., 0.,  ..., 0., 0., 0.]],\n",
       " \n",
       "         [[0., 0., 0.,  ..., 0., 0., 0.]],\n",
       " \n",
       "         ...,\n",
       " \n",
       "         [[0., 0., 0.,  ..., 0., 0., 0.]],\n",
       " \n",
       "         [[0., 0., 0.,  ..., 0., 0., 0.]],\n",
       " \n",
       "         [[0., 0., 0.,  ..., 0., 0., 0.]]]))"
      ]
     },
     "execution_count": 27,
     "metadata": {},
     "output_type": "execute_result"
    }
   ],
   "source": [
    "from random import choice\n",
    "\n",
    "def randomTrainingExample():\n",
    "    category = choice(all_categories)\n",
    "    category_tensor = torch.tensor([all_categories.index(category)], dtype=torch.long)\n",
    "    article = choice(articles_dict[category])\n",
    "    abstract = article[\"abstract\"]\n",
    "    abstract_tensor = lineToTensor(abstract)\n",
    "    return category, abstract, category_tensor, abstract_tensor\n",
    "\n",
    "randomTrainingExample()"
   ]
  },
  {
   "cell_type": "markdown",
   "metadata": {},
   "source": [
    "## Training the network"
   ]
  },
  {
   "cell_type": "code",
   "execution_count": 42,
   "metadata": {},
   "outputs": [],
   "source": [
    "import torch.optim as optim\n",
    "\n",
    "learning_rate = 0.01\n",
    "\n",
    "criterion = nn.NLLLoss()\n",
    "optimizer = optim.SGD(rnn.parameters(), lr = learning_rate, momentum = 0.9)\n",
    "\n",
    "def train(category_tensor, abstract_tensor):\n",
    "    optimizer.zero_grad()\n",
    "    \n",
    "    output = rnn(abstract_tensor)\n",
    "            \n",
    "    loss = criterion(output, category_tensor)\n",
    "    loss.backward()\n",
    "    optimizer.step()\n",
    "        \n",
    "    return output, loss.item()"
   ]
  },
  {
   "cell_type": "code",
   "execution_count": 43,
   "metadata": {},
   "outputs": [
    {
     "name": "stdout",
     "output_type": "stream",
     "text": [
      "100 20.0% (1.0m 24.550705671310425s) 2.333 / Electrical Engineering and Systems Science X Computer Science\n",
      "200 40.0% (2.0m 52.55218529701233s) 1.844 / Quantitative Finance X Quantitative Biology\n",
      "300 60.0% (4.0m 18.129560470581055s) 1.824 / Quantitative Finance V\n",
      "400 80.0% (5.0m 48.88153338432312s) 1.812 / Statistics X Economics\n",
      "500 100.0% (7.0m 14.825100183486938s) 2.323 / Computer Science X Quantitative Biology\n"
     ]
    }
   ],
   "source": [
    "import time\n",
    "\n",
    "n_iters = 500\n",
    "print_every = 100\n",
    "plot_every = 10\n",
    "\n",
    "# keep track of losses for plotting\n",
    "current_loss = 0\n",
    "all_losses = []\n",
    "\n",
    "def timeSince(since):\n",
    "    now = time.time()\n",
    "    s = now - since\n",
    "    m = s//60\n",
    "    s -= m*60\n",
    "    return \"{}m {}s\".format(m, s)\n",
    "\n",
    "start = time.time()\n",
    "\n",
    "for it in range(1, n_iters+1):\n",
    "    category, line, category_tensor, line_tensor = randomTrainingExample()\n",
    "    output, loss = train(category_tensor, line_tensor)\n",
    "    current_loss += loss\n",
    "    \n",
    "    if not (it % print_every):\n",
    "        guess, guess_i = categoryFromOutput(output)\n",
    "        correct = \"V\" if guess == category else \"X {}\".format(category)\n",
    "        print(\"{} {}% ({}) {:.4} / {} {}\".format(it, it/n_iters*100, timeSince(start), loss, guess, correct))\n",
    "        \n",
    "    if not (it % plot_every):\n",
    "        all_losses.append(current_loss / plot_every)\n",
    "        current_loss = 0"
   ]
  },
  {
   "cell_type": "code",
   "execution_count": 45,
   "metadata": {},
   "outputs": [
    {
     "data": {
      "text/plain": [
       "[<matplotlib.lines.Line2D at 0x11f947b8>]"
      ]
     },
     "execution_count": 45,
     "metadata": {},
     "output_type": "execute_result"
    },
    {
     "data": {
      "image/png": "[encoded data removed]",
      "text/plain": [
       "<Figure size 432x288 with 1 Axes>"
      ]
     },
     "metadata": {
      "needs_background": "light"
     },
     "output_type": "display_data"
    }
   ],
   "source": [
    "import matplotlib.pyplot as plt\n",
    "\n",
    "plt.figure()\n",
    "plt.plot(all_losses)"
   ]
  },
  {
   "cell_type": "code",
   "execution_count": null,
   "metadata": {},
   "outputs": [],
   "source": []
  }
 ],
 "metadata": {
  "kernelspec": {
   "display_name": "Python 3",
   "language": "python",
   "name": "python3"
  },
  "language_info": {
   "codemirror_mode": {
    "name": "ipython",
    "version": 3
   },
   "file_extension": ".py",
   "mimetype": "text/x-python",
   "name": "python",
   "nbconvert_exporter": "python",
   "pygments_lexer": "ipython3",
   "version": "3.6.5"
  }
 },
 "nbformat": 4,
 "nbformat_minor": 2
}
